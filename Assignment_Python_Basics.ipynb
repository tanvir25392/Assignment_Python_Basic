{
  "nbformat": 4,
  "nbformat_minor": 0,
  "metadata": {
    "colab": {
      "provenance": []
    },
    "kernelspec": {
      "name": "python3",
      "display_name": "Python 3"
    },
    "language_info": {
      "name": "python"
    }
  },
  "cells": [
    {
      "cell_type": "markdown",
      "source": [
        "Write a Python program to count the number of characters (character frequency) in a string. Sample String : google.com\n",
        "Expected Result : {'o': 3, 'g': 2, '.': 1, 'e': 1, 'l': 1, 'm': 1, 'c': 1}"
      ],
      "metadata": {
        "id": "IDw5ar1OI-CA"
      }
    },
    {
      "cell_type": "code",
      "execution_count": null,
      "metadata": {
        "colab": {
          "base_uri": "https://localhost:8080/"
        },
        "id": "YzOFYXi_tuIy",
        "outputId": "10b1f267-3d6d-4325-adbb-f235efd59a96"
      },
      "outputs": [
        {
          "output_type": "stream",
          "name": "stdout",
          "text": [
            "{'G': 1, 'o': 2, 'g': 1, 'l': 1, 'e': 1, '.': 1, 'c': 1, 'm': 1}\n"
          ]
        }
      ],
      "source": [
        "string = \"Google.com\"\n",
        "freq = {}\n",
        "\n",
        "for char in string:\n",
        "    if char in freq:\n",
        "        freq[char] = 1\n",
        "        freq[char] = freq[char] + 1\n",
        "    else:\n",
        "        freq[char] = 1\n",
        "\n",
        "print(freq)\n"
      ]
    },
    {
      "cell_type": "markdown",
      "source": [
        "Write a Python program to check if a given key already exists in a dictionary. 3. Write a Python program that accepts a sequence of comma-separated numbers\n"
      ],
      "metadata": {
        "id": "Jh1aGxH4JFmb"
      }
    },
    {
      "cell_type": "code",
      "source": [
        "my_dict = {'name': 'Tanvir', 'age': 31, 'city': 'New York'}\n",
        "\n",
        "key = input(\"Enter the key to check: \")\n",
        "\n",
        "if key in my_dict:\n",
        "    print(\"The key '{}' already exists in the dictionary\".format(key))\n",
        "else:\n",
        "    print(\"The key '{}' does not exist in the dictionary\".format(key))\n"
      ],
      "metadata": {
        "colab": {
          "base_uri": "https://localhost:8080/"
        },
        "id": "-hbZMA24xKyc",
        "outputId": "7197faf9-da76-4e53-92e0-6e84296dfb3f"
      },
      "execution_count": null,
      "outputs": [
        {
          "output_type": "stream",
          "name": "stdout",
          "text": [
            "Enter the key to check: fgfg\n",
            "The key 'fgfg' does not exist in the dictionary\n"
          ]
        }
      ]
    },
    {
      "cell_type": "markdown",
      "source": [
        "Write a Python program to check if a given key already exists in a dictionary. 3. Write a Python program that accepts a sequence of comma-separated numbers from the\n",
        "user and generates a list and a tuple of those numbers. Sample data : 1, 5, 7, 23\n",
        "Expected Output :\n",
        "List : ['1', ' 5', ' 7', ' 23']\n",
        "Tuple : ('1', ' 5', ' 7', ' 23')"
      ],
      "metadata": {
        "id": "pAn964E5JMA7"
      }
    },
    {
      "cell_type": "code",
      "source": [
        "user_input = input(\"Enter a sequence of comma-separated numbers: \")\n",
        "\n",
        "numbers_list = user_input.split(\",\")\n",
        "\n",
        "numbers_list = [number.strip() for number in numbers_list]\n",
        "\n",
        "numbers_tuple = tuple(numbers_list)\n",
        "\n",
        "print(\"List:\", numbers_list)\n",
        "print(\"Tuple:\", numbers_tuple)\n"
      ],
      "metadata": {
        "colab": {
          "base_uri": "https://localhost:8080/"
        },
        "id": "9z6FqqC_ybt6",
        "outputId": "7119eea3-e178-4358-9327-2697d43d6947"
      },
      "execution_count": null,
      "outputs": [
        {
          "output_type": "stream",
          "name": "stdout",
          "text": [
            "Enter a sequence of comma-separated numbers: 1,2,3,4,5,6,7\n",
            "List: ['1', '2', '3', '4', '5', '6', '7']\n",
            "Tuple: ('1', '2', '3', '4', '5', '6', '7')\n"
          ]
        }
      ]
    },
    {
      "cell_type": "markdown",
      "source": [
        "Write a Python program to calculate the number of days between two dates. Sample dates : (2014, 7, 2), (2014, 7, 11)\n",
        "Expected output : 9 days"
      ],
      "metadata": {
        "id": "dJhpmBkUJQkF"
      }
    },
    {
      "cell_type": "code",
      "source": [
        "from datetime import date\n",
        "\n",
        "date1_str = input(\"Enter the first date (yyyy-mm-dd): \")\n",
        "date1 = tuple(map(int, date1_str.split(\"-\")))\n",
        "\n",
        "date2_str = input(\"Enter the second date (yyyy-mm-dd): \")\n",
        "date2 = tuple(map(int, date2_str.split(\"-\")))\n",
        "\n",
        "date1_obj = date(*date1)\n",
        "date2_obj = date(*date2)\n",
        "\n",
        "delta = date2_obj - date1_obj\n",
        "num_days = delta.days\n",
        "\n",
        "print(num_days, \"days\")\n"
      ],
      "metadata": {
        "colab": {
          "base_uri": "https://localhost:8080/"
        },
        "id": "38t8pRj6zM6r",
        "outputId": "bd9c85e0-91a1-4057-871e-a32ea652da34"
      },
      "execution_count": null,
      "outputs": [
        {
          "output_type": "stream",
          "name": "stdout",
          "text": [
            "Enter the first date (yyyy-mm-dd): 1992-03-25\n",
            "Enter the second date (yyyy-mm-dd): 2023-03-25\n",
            "11322 days\n"
          ]
        }
      ]
    },
    {
      "cell_type": "markdown",
      "source": [
        "Write a Python program to solve (x + y) * (x + y). Test Data : x = 4, y = 3\n",
        "Expected Output : (4 + 3) ^ 2) = 49"
      ],
      "metadata": {
        "id": "AiTTU3orJUhl"
      }
    },
    {
      "cell_type": "code",
      "source": [
        "x = float(input(\"Enter the value of x: \"))\n",
        "y = float(input(\"Enter the value of y: \"))\n",
        "\n",
        "result = (x + y) ** 2\n",
        "\n",
        "print(\"Result:\", result)\n"
      ],
      "metadata": {
        "colab": {
          "base_uri": "https://localhost:8080/"
        },
        "id": "bmg-XEgLH1P0",
        "outputId": "5c438640-eeff-4488-975d-93a0c97bb597"
      },
      "execution_count": 2,
      "outputs": [
        {
          "output_type": "stream",
          "name": "stdout",
          "text": [
            "Enter the value of x: 5\n",
            "Enter the value of y: 8\n",
            "Result: 169.0\n"
          ]
        }
      ]
    },
    {
      "cell_type": "markdown",
      "source": [
        "Write a Python program to compute the future value of a specified principal amount, rate of interest, and number of years. Test Data : amt = 10000, int = 3.5, years = 7\n",
        "Expected Output : 12722.79"
      ],
      "metadata": {
        "id": "VDyKmJSCJmcm"
      }
    },
    {
      "cell_type": "code",
      "source": [
        "amt = float(input(\"Enter the principal amount: \"))\n",
        "interest = float(input(\"Enter the rate of interest: \"))\n",
        "years = int(input(\"Enter the number of years: \"))\n",
        "\n",
        "future_value = amt * ((1 + (interest/100)) ** years)\n",
        "\n",
        "print(\"Future value:\", round(future_value, 2))\n"
      ],
      "metadata": {
        "colab": {
          "base_uri": "https://localhost:8080/"
        },
        "id": "_Wbfe_93Iwdb",
        "outputId": "e3672249-4725-4636-e7d3-c3411e5245dc"
      },
      "execution_count": 1,
      "outputs": [
        {
          "output_type": "stream",
          "name": "stdout",
          "text": [
            "Enter the principal amount: 4000\n",
            "Enter the rate of interest: 6\n",
            "Enter the number of years: 5\n",
            "Future value: 5352.9\n"
          ]
        }
      ]
    },
    {
      "cell_type": "markdown",
      "source": [
        "Write a Python program that removes duplicate elements from a given array of numbers so\n",
        "that each element appears only once and returns the new length of the array. Sample Input: [0,0,1,1,2,2,3,3,4,4,4]\n",
        "Sample Output:\n",
        "The list of unique numbers: [0,1,2,3,4]\n",
        "length of the unique list : 5"
      ],
      "metadata": {
        "id": "A4Has_OuJqQq"
      }
    },
    {
      "cell_type": "code",
      "source": [
        "input_str = input(\"Enter an array of numbers, separated by spaces: \")\n",
        "\n",
        "# Convert input string to list of integers\n",
        "input_list = list(map(int, input_str.split()))\n",
        "\n",
        "# Remove duplicates using set() function\n",
        "unique_list = list(set(input_list))\n",
        "\n",
        "print(\"The list of unique numbers:\", unique_list)\n",
        "print(\"Length of the unique list:\", len(unique_list))\n"
      ],
      "metadata": {
        "colab": {
          "base_uri": "https://localhost:8080/"
        },
        "id": "9n1aNwU7JvTS",
        "outputId": "355f62c3-506b-454b-917d-46382411e727"
      },
      "execution_count": 3,
      "outputs": [
        {
          "output_type": "stream",
          "name": "stdout",
          "text": [
            "Enter an array of numbers, separated by spaces: 1 2 3 5 6 4 4 5 5\n",
            "The list of unique numbers: [1, 2, 3, 4, 5, 6]\n",
            "Length of the unique list: 6\n"
          ]
        }
      ]
    },
    {
      "cell_type": "markdown",
      "source": [
        "Write a Python program to sort (ascending and descending) a dictionary by key value."
      ],
      "metadata": {
        "id": "pWFaTSwTKAYa"
      }
    },
    {
      "cell_type": "code",
      "source": [
        "# Sample dictionary\n",
        "my_dict = {5: 'e', 2: 'b', 3: 'c', 1: 'a', 4: 'd'}\n",
        "\n",
        "# Sorting dictionary in ascending order by keys\n",
        "asc_dict = dict(sorted(my_dict.items()))\n",
        "\n",
        "print(\"Dictionary sorted by keys in ascending order:\", asc_dict)\n",
        "\n",
        "# Sorting dictionary in descending order by keys\n",
        "desc_dict = dict(sorted(my_dict.items(), reverse=True))\n",
        "\n",
        "print(\"Dictionary sorted by keys in descending order:\", desc_dict)\n"
      ],
      "metadata": {
        "colab": {
          "base_uri": "https://localhost:8080/"
        },
        "id": "dm5rTvLcKFTg",
        "outputId": "6cdea014-d518-4998-8bc2-097be8add8cb"
      },
      "execution_count": 4,
      "outputs": [
        {
          "output_type": "stream",
          "name": "stdout",
          "text": [
            "Dictionary sorted by keys in ascending order: {1: 'a', 2: 'b', 3: 'c', 4: 'd', 5: 'e'}\n",
            "Dictionary sorted by keys in descending order: {5: 'e', 4: 'd', 3: 'c', 2: 'b', 1: 'a'}\n"
          ]
        }
      ]
    },
    {
      "cell_type": "markdown",
      "source": [
        "Write a Python program to sort (ascending and descending) a dictionary by key value. 9. Write a Python program to add key to a dictionary. Go to the editor\n",
        "Sample Dictionary : {0: 10, 1: 20}\n",
        "Expected Result : {0: 10, 1: 20, 2: 30}"
      ],
      "metadata": {
        "id": "RlU5iwkrKQWn"
      }
    },
    {
      "cell_type": "code",
      "source": [
        "# Sample dictionary\n",
        "my_dict = {0: 10, 1: 20}\n",
        "\n",
        "# Adding a new key-value pair to the dictionary\n",
        "my_dict[2] = 30\n",
        "\n",
        "print(\"New dictionary:\", my_dict)\n"
      ],
      "metadata": {
        "colab": {
          "base_uri": "https://localhost:8080/"
        },
        "id": "Y-7BKEm_KT_a",
        "outputId": "fe63152a-b766-4174-a7aa-148ebb16a281"
      },
      "execution_count": 5,
      "outputs": [
        {
          "output_type": "stream",
          "name": "stdout",
          "text": [
            "New dictionary: {0: 10, 1: 20, 2: 30}\n"
          ]
        }
      ]
    },
    {
      "cell_type": "markdown",
      "source": [
        "Write a Pandas program to create and display a DataFrame from a specified dictionary data\n",
        "which has the index labels. Sample Python dictionary data and list labels:\n",
        "exam_data = {'name': ['Arif', 'Asir', 'Arik', 'Anis', 'Anil', 'Ashish', 'Anahi', 'Alia', 'Alvin', 'Asim'],\n",
        "'score': [12.5, 9, 16.5, np.nan, 9, 20, 14.5, np.nan, 8, 19],\n",
        "'attempts': [1, 3, 2, 3, 2, 3, 1, 1, 2, 1],\n",
        "'qualify': ['yes', 'no', 'yes', 'no', 'no', 'yes', 'yes', 'no', 'no', 'yes']}\n",
        "labels = ['a', 'b', 'c', 'd', 'e', 'f', 'g', 'h', 'i', 'j']"
      ],
      "metadata": {
        "id": "idEXCtTCKfHH"
      }
    },
    {
      "cell_type": "code",
      "source": [
        "import pandas as pd\n",
        "import numpy as np\n",
        "\n",
        "exam_data = {'name': ['Arif', 'Asir', 'Arik', 'Anis', 'Anil', 'Ashish', 'Anahi', 'Alia', 'Alvin', 'Asim'],\n",
        "             'score': [12.5, 9, 16.5, np.nan, 9, 20, 14.5, np.nan, 8, 19],\n",
        "             'attempts': [1, 3, 2, 3, 2, 3, 1, 1, 2, 1],\n",
        "             'qualify': ['yes', 'no', 'yes', 'no', 'no', 'yes', 'yes', 'no', 'no', 'yes']}\n",
        "labels = ['a', 'b', 'c', 'd', 'e', 'f', 'g', 'h', 'i', 'j']\n",
        "\n",
        "df = pd.DataFrame(exam_data, index=labels)\n",
        "\n",
        "print(df)\n"
      ],
      "metadata": {
        "colab": {
          "base_uri": "https://localhost:8080/"
        },
        "id": "uk7IIb4wKgVF",
        "outputId": "4414078a-1854-48fe-bb56-1072b9268fc3"
      },
      "execution_count": 6,
      "outputs": [
        {
          "output_type": "stream",
          "name": "stdout",
          "text": [
            "     name  score  attempts qualify\n",
            "a    Arif   12.5         1     yes\n",
            "b    Asir    9.0         3      no\n",
            "c    Arik   16.5         2     yes\n",
            "d    Anis    NaN         3      no\n",
            "e    Anil    9.0         2      no\n",
            "f  Ashish   20.0         3     yes\n",
            "g   Anahi   14.5         1     yes\n",
            "h    Alia    NaN         1      no\n",
            "i   Alvin    8.0         2      no\n",
            "j    Asim   19.0         1     yes\n"
          ]
        }
      ]
    }
  ]
}